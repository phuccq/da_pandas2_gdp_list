{
 "cells": [
  {
   "cell_type": "code",
   "execution_count": 36,
   "id": "a9927e45",
   "metadata": {},
   "outputs": [
    {
     "data": {
      "text/html": [
       "<div>\n",
       "<style scoped>\n",
       "    .dataframe tbody tr th:only-of-type {\n",
       "        vertical-align: middle;\n",
       "    }\n",
       "\n",
       "    .dataframe tbody tr th {\n",
       "        vertical-align: top;\n",
       "    }\n",
       "\n",
       "    .dataframe thead th {\n",
       "        text-align: right;\n",
       "    }\n",
       "</style>\n",
       "<table border=\"1\" class=\"dataframe\">\n",
       "  <thead>\n",
       "    <tr style=\"text-align: right;\">\n",
       "      <th></th>\n",
       "      <th>Country</th>\n",
       "      <th>Continent</th>\n",
       "      <th>GDP (millions of US$)</th>\n",
       "    </tr>\n",
       "  </thead>\n",
       "  <tbody>\n",
       "    <tr>\n",
       "      <th>0</th>\n",
       "      <td>�Afghanistan</td>\n",
       "      <td>Asia</td>\n",
       "      <td>18181</td>\n",
       "    </tr>\n",
       "    <tr>\n",
       "      <th>1</th>\n",
       "      <td>�Albania</td>\n",
       "      <td>Europe</td>\n",
       "      <td>12847</td>\n",
       "    </tr>\n",
       "    <tr>\n",
       "      <th>2</th>\n",
       "      <td>�Algeria</td>\n",
       "      <td>Africa</td>\n",
       "      <td>190709</td>\n",
       "    </tr>\n",
       "    <tr>\n",
       "      <th>3</th>\n",
       "      <td>�Angola</td>\n",
       "      <td>Africa</td>\n",
       "      <td>100948</td>\n",
       "    </tr>\n",
       "    <tr>\n",
       "      <th>4</th>\n",
       "      <td>�Argentina</td>\n",
       "      <td>South America</td>\n",
       "      <td>447644</td>\n",
       "    </tr>\n",
       "    <tr>\n",
       "      <th>...</th>\n",
       "      <td>...</td>\n",
       "      <td>...</td>\n",
       "      <td>...</td>\n",
       "    </tr>\n",
       "    <tr>\n",
       "      <th>120</th>\n",
       "      <td>�Uzbekistan</td>\n",
       "      <td>Asia</td>\n",
       "      <td>45353</td>\n",
       "    </tr>\n",
       "    <tr>\n",
       "      <th>121</th>\n",
       "      <td>�Venezuela</td>\n",
       "      <td>South America</td>\n",
       "      <td>315841</td>\n",
       "    </tr>\n",
       "    <tr>\n",
       "      <th>122</th>\n",
       "      <td>�Vietnam</td>\n",
       "      <td>Asia</td>\n",
       "      <td>122722</td>\n",
       "    </tr>\n",
       "    <tr>\n",
       "      <th>123</th>\n",
       "      <td>�Yemen</td>\n",
       "      <td>Africa</td>\n",
       "      <td>33675</td>\n",
       "    </tr>\n",
       "    <tr>\n",
       "      <th>124</th>\n",
       "      <td>�Zambia</td>\n",
       "      <td>Africa</td>\n",
       "      <td>19206</td>\n",
       "    </tr>\n",
       "  </tbody>\n",
       "</table>\n",
       "<p>125 rows × 3 columns</p>\n",
       "</div>"
      ],
      "text/plain": [
       "          Country      Continent  GDP (millions of US$)\n",
       "0    �Afghanistan           Asia                  18181\n",
       "1        �Albania         Europe                  12847\n",
       "2        �Algeria         Africa                 190709\n",
       "3         �Angola         Africa                 100948\n",
       "4      �Argentina  South America                 447644\n",
       "..            ...            ...                    ...\n",
       "120   �Uzbekistan           Asia                  45353\n",
       "121    �Venezuela  South America                 315841\n",
       "122      �Vietnam           Asia                 122722\n",
       "123        �Yemen         Africa                  33675\n",
       "124       �Zambia         Africa                  19206\n",
       "\n",
       "[125 rows x 3 columns]"
      ]
     },
     "execution_count": 36,
     "metadata": {},
     "output_type": "execute_result"
    }
   ],
   "source": [
    "import pandas as pd\n",
    "import numpy as np\n",
    "\n",
    "data=pd.read_csv('GDPlist.csv')\n",
    "data"
   ]
  },
  {
   "cell_type": "code",
   "execution_count": 7,
   "id": "0c2ca04a",
   "metadata": {},
   "outputs": [
    {
     "name": "stdout",
     "output_type": "stream",
     "text": [
      "Số dòng là 125, số cột là 3\n",
      "Kiểu dữ liệu của các thuộc tính:\n",
      " Country                  object\n",
      "Continent                object\n",
      "GDP (millions of US$)     int64\n",
      "dtype: object\n"
     ]
    }
   ],
   "source": [
    "# Đọc bộ dữ liệu, cho biết số dòng, số cột và kiểu dữ liệu của các thuộc tính.\n",
    "row = data.shape[0]\n",
    "col = data.shape[1]\n",
    "print(f'Số dòng là {row}, số cột là {col}')\n",
    "print('Kiểu dữ liệu của các thuộc tính:\\n',data.dtypes)"
   ]
  },
  {
   "cell_type": "code",
   "execution_count": 9,
   "id": "441ea100",
   "metadata": {},
   "outputs": [
    {
     "name": "stdout",
     "output_type": "stream",
     "text": [
      "GDP lớn nhất là: 15094025; GDP nhỏ nhất là: 10600\n"
     ]
    }
   ],
   "source": [
    "# Tính giá trị lớn nhất và nhỏ nhất của GDP.\n",
    "gdp_min = data.loc[:,'GDP (millions of US$)'].min()\n",
    "gdp_max = data.loc[:,'GDP (millions of US$)'].max()\n",
    "print(f'GDP lớn nhất là: {gdp_max}; GDP nhỏ nhất là: {gdp_min}')"
   ]
  },
  {
   "cell_type": "code",
   "execution_count": 102,
   "id": "50024f31",
   "metadata": {},
   "outputs": [
    {
     "name": "stdout",
     "output_type": "stream",
     "text": [
      "Giá trị xuất hiện nhiều nhất của GDP là: 10600\n",
      "Giá trị trung bình của GDP là: 555427.784\n",
      "Giá trị trung vị của GDP là: 96089.0\n",
      "Dữ liệu phân bố lệch phải\n"
     ]
    }
   ],
   "source": [
    "# Hãy cho biết xu hướng phân bố dữ liệu của GDP.\n",
    "gdp_mode = data.loc[:,'GDP (millions of US$)'].mode().values[0]\n",
    "gdp_mean = data.loc[:,'GDP (millions of US$)'].mean()\n",
    "gdp_median = data.loc[:,'GDP (millions of US$)'].median()\n",
    "\n",
    "print(f'Giá trị xuất hiện nhiều nhất của GDP là: {gdp_mode}\\n\\\n",
    "Giá trị trung bình của GDP là: {gdp_mean}\\n\\\n",
    "Giá trị trung vị của GDP là: {gdp_median}')\n",
    "print('Dữ liệu phân bố lệch phải')"
   ]
  },
  {
   "cell_type": "code",
   "execution_count": 33,
   "id": "b2e039c2",
   "metadata": {},
   "outputs": [
    {
     "name": "stdout",
     "output_type": "stream",
     "text": [
      "Châu lục xuất hiện nhiều nhất là: Europe\n"
     ]
    }
   ],
   "source": [
    "# Hãy cho biết châu lục nào xuất hiện nhiều nhất\n",
    "cont_mode=data.loc[:,'Continent'].mode().values[0]\n",
    "print('Châu lục xuất hiện nhiều nhất là:',cont_mode)\n"
   ]
  },
  {
   "cell_type": "code",
   "execution_count": 74,
   "id": "335915bf",
   "metadata": {},
   "outputs": [
    {
     "data": {
      "text/html": [
       "<div>\n",
       "<style scoped>\n",
       "    .dataframe tbody tr th:only-of-type {\n",
       "        vertical-align: middle;\n",
       "    }\n",
       "\n",
       "    .dataframe tbody tr th {\n",
       "        vertical-align: top;\n",
       "    }\n",
       "\n",
       "    .dataframe thead th {\n",
       "        text-align: right;\n",
       "    }\n",
       "</style>\n",
       "<table border=\"1\" class=\"dataframe\">\n",
       "  <thead>\n",
       "    <tr style=\"text-align: right;\">\n",
       "      <th></th>\n",
       "      <th>Sum</th>\n",
       "      <th>Mean</th>\n",
       "    </tr>\n",
       "    <tr>\n",
       "      <th>Continent</th>\n",
       "      <th></th>\n",
       "      <th></th>\n",
       "    </tr>\n",
       "  </thead>\n",
       "  <tbody>\n",
       "    <tr>\n",
       "      <th>Africa</th>\n",
       "      <td>1820811</td>\n",
       "      <td>6.278659e+04</td>\n",
       "    </tr>\n",
       "    <tr>\n",
       "      <th>Asia</th>\n",
       "      <td>24425891</td>\n",
       "      <td>6.784970e+05</td>\n",
       "    </tr>\n",
       "    <tr>\n",
       "      <th>Europe</th>\n",
       "      <td>19139380</td>\n",
       "      <td>5.172805e+05</td>\n",
       "    </tr>\n",
       "    <tr>\n",
       "      <th>North America</th>\n",
       "      <td>18238447</td>\n",
       "      <td>1.658041e+06</td>\n",
       "    </tr>\n",
       "    <tr>\n",
       "      <th>Oceania</th>\n",
       "      <td>1662727</td>\n",
       "      <td>5.542423e+05</td>\n",
       "    </tr>\n",
       "    <tr>\n",
       "      <th>South America</th>\n",
       "      <td>4141217</td>\n",
       "      <td>4.601352e+05</td>\n",
       "    </tr>\n",
       "  </tbody>\n",
       "</table>\n",
       "</div>"
      ],
      "text/plain": [
       "                    Sum          Mean\n",
       "Continent                            \n",
       "Africa          1820811  6.278659e+04\n",
       "Asia           24425891  6.784970e+05\n",
       "Europe         19139380  5.172805e+05\n",
       "North America  18238447  1.658041e+06\n",
       "Oceania         1662727  5.542423e+05\n",
       "South America   4141217  4.601352e+05"
      ]
     },
     "execution_count": 74,
     "metadata": {},
     "output_type": "execute_result"
    }
   ],
   "source": [
    "# Với mỗi châu lục hãy tính tổng GDP; trung bình cộng GDP.  \n",
    "# Hợp nhất 2 bảng này thành một bảng duy nhất gồm 3 thông tin: Tên châu lục; Tổng GDP; TBC GDP\n",
    "# gdp_sum = data.groupby('Continent')['GDP (millions of US$)'].sum()\n",
    "# gdp_mean = data.groupby('Continent')['GDP (millions of US$)'].mean()\n",
    "gdp_sum = pd.pivot_table(data, values=['GDP (millions of US$)'],index=['Continent'],aggfunc=np.sum)\n",
    "gdp_mean = pd.pivot_table(data, values=['GDP (millions of US$)'],index=['Continent'],aggfunc=np.mean)\n",
    "gdp_sum.rename(columns={'GDP (millions of US$)':'Sum'},inplace=True)\n",
    "gdp_mean.rename(columns={'GDP (millions of US$)':'Mean'},inplace=True)\n",
    "data2=pd.concat([gdp_sum,gdp_mean],axis=1)\n",
    "data2"
   ]
  },
  {
   "cell_type": "code",
   "execution_count": null,
   "id": "bb9f7477",
   "metadata": {},
   "outputs": [],
   "source": []
  }
 ],
 "metadata": {
  "kernelspec": {
   "display_name": "Python 3",
   "language": "python",
   "name": "python3"
  },
  "language_info": {
   "codemirror_mode": {
    "name": "ipython",
    "version": 3
   },
   "file_extension": ".py",
   "mimetype": "text/x-python",
   "name": "python",
   "nbconvert_exporter": "python",
   "pygments_lexer": "ipython3",
   "version": "3.8.8"
  }
 },
 "nbformat": 4,
 "nbformat_minor": 5
}
